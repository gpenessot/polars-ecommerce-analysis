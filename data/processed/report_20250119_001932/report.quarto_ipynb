{
  "cells": [
    {
      "cell_type": "markdown",
      "metadata": {},
      "source": [
        "---\n",
        "title: \"Analyse E-commerce avec Polars\"\n",
        "author: \"Gaël Penessot\"\n",
        "date: today\n",
        "date-format: \"DD/MM/YYYY\"\n",
        "format: \n",
        "  html:\n",
        "    code-fold: false\n",
        "    theme: cosmo\n",
        "    toc: true\n",
        "    toc-depth: 3\n",
        "    fig-width: 8\n",
        "    fig-height: 6\n",
        "execute:\n",
        "  echo: true\n",
        "  warning: true\n",
        "  error: true\n",
        "filters:\n",
        "   - quarto\n",
        "---"
      ],
      "id": "7430b136"
    },
    {
      "cell_type": "code",
      "metadata": {},
      "source": [
        "#| label: setup\n",
        "#| include: true\n",
        "\n",
        "print(\"Démarrage du chargement des données...\")\n",
        "\n",
        "import polars as pl\n",
        "import plotly.express as px\n",
        "import plotly.graph_objects as go\n",
        "import json\n",
        "import os\n",
        "from pathlib import Path\n",
        "\n",
        "# Affichage du répertoire de travail et des variables d'environnement\n",
        "print(f\"Répertoire de travail : {os.getcwd()}\")\n",
        "print(f\"Variables d'environnement :\")\n",
        "print(f\"RESULTS_DIR = {os.getenv('RESULTS_DIR')}\")\n",
        "\n",
        "# Définition du chemin des résultats\n",
        "results_dir = \"/home/gael/Documents/Github/polars-ecommerce-analysis/data/processed/report_20250119_001932/results\"\n",
        "print(f\"Utilisation du répertoire de résultats : {results_dir}\")\n",
        "\n",
        "# Fonction de chargement avec vérification\n",
        "def load_results(filename):\n",
        "    filepath = os.path.join(results_dir, filename)\n",
        "    print(f\"Tentative de chargement de {filepath}\")\n",
        "    \n",
        "    if not os.path.exists(filepath):\n",
        "        print(f\"ERREUR: Fichier non trouvé: {filepath}\")\n",
        "        return None\n",
        "        \n",
        "    try:\n",
        "        if filepath.endswith('.json'):\n",
        "            with open(filepath, 'r') as f:\n",
        "                return json.load(f)\n",
        "        return pl.read_csv(filepath)\n",
        "    except Exception as e:\n",
        "        print(f\"ERREUR lors du chargement de {filepath}: {str(e)}\")\n",
        "        return None\n",
        "\n",
        "# Chargement des données avec vérification\n",
        "print(\"\\nChargement des fichiers de résultats...\")\n",
        "\n",
        "global_kpis = load_results('global_kpis.json')\n",
        "print(f\"KPIs globaux : {global_kpis}\")\n",
        "\n",
        "customer_metrics = load_results('customer_metrics.csv')\n",
        "print(f\"Métriques clients chargées : {customer_metrics is not None}\")\n",
        "\n",
        "price_analysis = load_results('price_analysis.csv')\n",
        "print(f\"Analyse des prix chargée : {price_analysis is not None}\")\n",
        "\n",
        "top_products = load_results('top_products.csv')\n",
        "print(f\"Top produits chargés : {top_products is not None}\")\n",
        "\n",
        "temporal_analysis = {\n",
        "    k: load_results(f'temporal_{k}.csv') \n",
        "    for k in ['daily', 'weekday', 'hourly']\n",
        "}\n",
        "print(f\"Analyses temporelles chargées : {temporal_analysis}\")"
      ],
      "id": "setup",
      "execution_count": null,
      "outputs": []
    },
    {
      "cell_type": "markdown",
      "metadata": {},
      "source": [
        "# Résumé Exécutif\n",
        "\n",
        "Cette analyse présente une vue d'ensemble de notre activité e-commerce basée sur les données disponibles.\n"
      ],
      "id": "9b821395"
    },
    {
      "cell_type": "code",
      "metadata": {},
      "source": [
        "if global_kpis:\n",
        "    print(f\"\"\"Points clés:\n",
        "    - Chiffre d'affaires total : €{global_kpis['total_revenue']:,.2f}\n",
        "    - Nombre total de commandes : {global_kpis['total_orders']:,d}\n",
        "    - Panier moyen : €{global_kpis['average_order_value']:,.2f}\n",
        "    \"\"\")\n",
        "else:\n",
        "    print(\"Données non disponibles\")"
      ],
      "id": "39353772",
      "execution_count": null,
      "outputs": []
    },
    {
      "cell_type": "markdown",
      "metadata": {},
      "source": [
        "[Le reste du template reste identique...]"
      ],
      "id": "5b9fd366"
    }
  ],
  "metadata": {
    "kernelspec": {
      "display_name": "Python 3",
      "language": "python",
      "name": "python3"
    }
  },
  "nbformat": 4,
  "nbformat_minor": 5
}